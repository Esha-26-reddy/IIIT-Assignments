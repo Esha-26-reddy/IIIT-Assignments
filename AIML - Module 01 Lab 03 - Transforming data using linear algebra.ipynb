{
  "nbformat": 4,
  "nbformat_minor": 0,
  "metadata": {
    "colab": {
      "provenance": [],
      "authorship_tag": "ABX9TyNah9EyxcVceUzdgXziPyBV",
      "include_colab_link": true
    },
    "kernelspec": {
      "name": "python3",
      "display_name": "Python 3"
    },
    "language_info": {
      "name": "python"
    }
  },
  "cells": [
    {
      "cell_type": "markdown",
      "metadata": {
        "id": "view-in-github",
        "colab_type": "text"
      },
      "source": [
        "<a href=\"https://colab.research.google.com/github/Esha-26-reddy/asg/blob/main/Assignment3.ipynb\" target=\"_parent\"><img src=\"https://colab.research.google.com/assets/colab-badge.svg\" alt=\"Open In Colab\"/></a>"
      ]
    },
    {
      "cell_type": "markdown",
      "source": [
        "1)Experiment with different transformation matrices and check the accuracy"
      ],
      "metadata": {
        "id": "Skl1VQuBzS9c"
      }
    },
    {
      "cell_type": "code",
      "execution_count": null,
      "metadata": {
        "id": "6t1NbfppzOV7"
      },
      "outputs": [],
      "source": [
        "import numpy as np\n",
        "from sklearn.model_selection import train_test_split\n",
        "from sklearn.linear_model import LogisticRegression\n",
        "from sklearn.metrics import accuracy_score\n",
        "\n",
        "data, labels = np.random.rand(100, 4), np.random.randint(0, 2, 100)\n",
        "train_feats, test_feats, train_labels, test_labels = train_test_split(data, labels, test_size=0.3, random_state=42)\n",
        "\n",
        "transforms = [np.array([[0.5, -0.5], [0, 2.5]]), np.array([[1, 0], [0, 1]]), np.array([[2, -1], [-1, 2]])]\n",
        "\n",
        "for t in transforms:\n",
        "    model = LogisticRegression().fit(\n",
        "        np.hstack([np.matmul(train_feats[:, :2], t), train_feats[:, 2:]]), train_labels\n",
        "    )\n",
        "    print(f\"Accuracy: {accuracy_score(test_labels, model.predict(np.hstack([np.matmul(test_feats[:, :2], t), test_feats[:, 2:]]))):.2f}\")\n",
        "\n",
        "t = transforms[0]\n",
        "model = LogisticRegression().fit(\n",
        "    np.hstack([train_feats[:, :2], np.matmul(train_feats[:, 2:], t)]), train_labels\n",
        ")\n",
        "print(f\"Accuracy on other features: {accuracy_score(test_labels, model.predict(np.hstack([test_feats[:, :2], np.matmul(test_feats[:, 2:], t)]))):.2f}\")\n"
      ]
    },
    {
      "cell_type": "markdown",
      "source": [
        "Explanation:\n",
        "\n",
        "Experimentation with Different Matrices:\n",
        "\n",
        "The code applies multiple transformation matrices to the first two features.\n",
        "Each matrix's effect is evaluated by checking the model's accuracy.\n",
        "\n",
        "Applying Transform to Other Features:\n",
        "\n",
        "The same transformation matrix is applied to the last two features.\n",
        "The model's performance is reassessed to check whether the transformation generalizes well to other features."
      ],
      "metadata": {
        "id": "y_70Tzotzf0O"
      }
    },
    {
      "cell_type": "markdown",
      "source": [
        "2)Will the same transform used for these two features also work for other features?"
      ],
      "metadata": {
        "id": "MXgQ0VkszmBO"
      }
    },
    {
      "cell_type": "markdown",
      "source": [
        "If applying the transformation to other features results in similar accuracy to applying it to the original features, it suggests that the transformation generalizes well and may be broadly applicable.\n",
        "If the accuracy drops significantly when applied to other features, it indicates that the transformation is feature-specific and may not work universally across all features."
      ],
      "metadata": {
        "id": "s1-LqXKGzqJk"
      }
    }
  ]
}
